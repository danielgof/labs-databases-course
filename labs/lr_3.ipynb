{
  "nbformat": 4,
  "nbformat_minor": 0,
  "metadata": {
    "colab": {
      "provenance": []
    },
    "kernelspec": {
      "name": "python3",
      "display_name": "Python 3"
    },
    "language_info": {
      "name": "python"
    }
  },
  "cells": [
    {
      "cell_type": "code",
      "execution_count": null,
      "metadata": {
        "colab": {
          "base_uri": "https://localhost:8080/",
          "height": 480
        },
        "id": "d4DBxzeGXA9P",
        "outputId": "5054552f-68be-479c-f238-0ffec335d6a4"
      },
      "outputs": [
        {
          "output_type": "stream",
          "name": "stderr",
          "text": [
            "/usr/local/lib/python3.7/dist-packages/openpyxl/styles/stylesheet.py:226: UserWarning: Workbook contains no default style, apply openpyxl's default\n",
            "  warn(\"Workbook contains no default style, apply openpyxl's default\")\n"
          ]
        },
        {
          "output_type": "execute_result",
          "data": {
            "text/plain": [
              "           data      USD      CAD      EUR\n",
              "0    2022-11-02  61.4275  45.0051  60.9668\n",
              "1    2022-11-01  61.6229  45.2610  61.1196\n",
              "2    2022-10-29  61.5343  45.4228  61.1328\n",
              "3    2022-10-28  61.3589  45.2332  61.5718\n",
              "4    2022-10-27  61.4277  45.0416  61.5682\n",
              "...         ...      ...      ...      ...\n",
              "1248 2017-10-07  57.7612  45.9005  67.5344\n",
              "1249 2017-10-06  57.5811  46.1794  67.7787\n",
              "1250 2017-10-05  57.7832  46.3006  67.9357\n",
              "1251 2017-10-04  57.9375  46.2907  67.9839\n",
              "1252 2017-10-03  57.8134  46.1916  67.9076\n",
              "\n",
              "[1253 rows x 4 columns]"
            ],
            "text/html": [
              "\n",
              "  <div id=\"df-18d4630f-7fc9-4ad9-8030-e8236129ebe8\">\n",
              "    <div class=\"colab-df-container\">\n",
              "      <div>\n",
              "<style scoped>\n",
              "    .dataframe tbody tr th:only-of-type {\n",
              "        vertical-align: middle;\n",
              "    }\n",
              "\n",
              "    .dataframe tbody tr th {\n",
              "        vertical-align: top;\n",
              "    }\n",
              "\n",
              "    .dataframe thead th {\n",
              "        text-align: right;\n",
              "    }\n",
              "</style>\n",
              "<table border=\"1\" class=\"dataframe\">\n",
              "  <thead>\n",
              "    <tr style=\"text-align: right;\">\n",
              "      <th></th>\n",
              "      <th>data</th>\n",
              "      <th>USD</th>\n",
              "      <th>CAD</th>\n",
              "      <th>EUR</th>\n",
              "    </tr>\n",
              "  </thead>\n",
              "  <tbody>\n",
              "    <tr>\n",
              "      <th>0</th>\n",
              "      <td>2022-11-02</td>\n",
              "      <td>61.4275</td>\n",
              "      <td>45.0051</td>\n",
              "      <td>60.9668</td>\n",
              "    </tr>\n",
              "    <tr>\n",
              "      <th>1</th>\n",
              "      <td>2022-11-01</td>\n",
              "      <td>61.6229</td>\n",
              "      <td>45.2610</td>\n",
              "      <td>61.1196</td>\n",
              "    </tr>\n",
              "    <tr>\n",
              "      <th>2</th>\n",
              "      <td>2022-10-29</td>\n",
              "      <td>61.5343</td>\n",
              "      <td>45.4228</td>\n",
              "      <td>61.1328</td>\n",
              "    </tr>\n",
              "    <tr>\n",
              "      <th>3</th>\n",
              "      <td>2022-10-28</td>\n",
              "      <td>61.3589</td>\n",
              "      <td>45.2332</td>\n",
              "      <td>61.5718</td>\n",
              "    </tr>\n",
              "    <tr>\n",
              "      <th>4</th>\n",
              "      <td>2022-10-27</td>\n",
              "      <td>61.4277</td>\n",
              "      <td>45.0416</td>\n",
              "      <td>61.5682</td>\n",
              "    </tr>\n",
              "    <tr>\n",
              "      <th>...</th>\n",
              "      <td>...</td>\n",
              "      <td>...</td>\n",
              "      <td>...</td>\n",
              "      <td>...</td>\n",
              "    </tr>\n",
              "    <tr>\n",
              "      <th>1248</th>\n",
              "      <td>2017-10-07</td>\n",
              "      <td>57.7612</td>\n",
              "      <td>45.9005</td>\n",
              "      <td>67.5344</td>\n",
              "    </tr>\n",
              "    <tr>\n",
              "      <th>1249</th>\n",
              "      <td>2017-10-06</td>\n",
              "      <td>57.5811</td>\n",
              "      <td>46.1794</td>\n",
              "      <td>67.7787</td>\n",
              "    </tr>\n",
              "    <tr>\n",
              "      <th>1250</th>\n",
              "      <td>2017-10-05</td>\n",
              "      <td>57.7832</td>\n",
              "      <td>46.3006</td>\n",
              "      <td>67.9357</td>\n",
              "    </tr>\n",
              "    <tr>\n",
              "      <th>1251</th>\n",
              "      <td>2017-10-04</td>\n",
              "      <td>57.9375</td>\n",
              "      <td>46.2907</td>\n",
              "      <td>67.9839</td>\n",
              "    </tr>\n",
              "    <tr>\n",
              "      <th>1252</th>\n",
              "      <td>2017-10-03</td>\n",
              "      <td>57.8134</td>\n",
              "      <td>46.1916</td>\n",
              "      <td>67.9076</td>\n",
              "    </tr>\n",
              "  </tbody>\n",
              "</table>\n",
              "<p>1253 rows × 4 columns</p>\n",
              "</div>\n",
              "      <button class=\"colab-df-convert\" onclick=\"convertToInteractive('df-18d4630f-7fc9-4ad9-8030-e8236129ebe8')\"\n",
              "              title=\"Convert this dataframe to an interactive table.\"\n",
              "              style=\"display:none;\">\n",
              "        \n",
              "  <svg xmlns=\"http://www.w3.org/2000/svg\" height=\"24px\"viewBox=\"0 0 24 24\"\n",
              "       width=\"24px\">\n",
              "    <path d=\"M0 0h24v24H0V0z\" fill=\"none\"/>\n",
              "    <path d=\"M18.56 5.44l.94 2.06.94-2.06 2.06-.94-2.06-.94-.94-2.06-.94 2.06-2.06.94zm-11 1L8.5 8.5l.94-2.06 2.06-.94-2.06-.94L8.5 2.5l-.94 2.06-2.06.94zm10 10l.94 2.06.94-2.06 2.06-.94-2.06-.94-.94-2.06-.94 2.06-2.06.94z\"/><path d=\"M17.41 7.96l-1.37-1.37c-.4-.4-.92-.59-1.43-.59-.52 0-1.04.2-1.43.59L10.3 9.45l-7.72 7.72c-.78.78-.78 2.05 0 2.83L4 21.41c.39.39.9.59 1.41.59.51 0 1.02-.2 1.41-.59l7.78-7.78 2.81-2.81c.8-.78.8-2.07 0-2.86zM5.41 20L4 18.59l7.72-7.72 1.47 1.35L5.41 20z\"/>\n",
              "  </svg>\n",
              "      </button>\n",
              "      \n",
              "  <style>\n",
              "    .colab-df-container {\n",
              "      display:flex;\n",
              "      flex-wrap:wrap;\n",
              "      gap: 12px;\n",
              "    }\n",
              "\n",
              "    .colab-df-convert {\n",
              "      background-color: #E8F0FE;\n",
              "      border: none;\n",
              "      border-radius: 50%;\n",
              "      cursor: pointer;\n",
              "      display: none;\n",
              "      fill: #1967D2;\n",
              "      height: 32px;\n",
              "      padding: 0 0 0 0;\n",
              "      width: 32px;\n",
              "    }\n",
              "\n",
              "    .colab-df-convert:hover {\n",
              "      background-color: #E2EBFA;\n",
              "      box-shadow: 0px 1px 2px rgba(60, 64, 67, 0.3), 0px 1px 3px 1px rgba(60, 64, 67, 0.15);\n",
              "      fill: #174EA6;\n",
              "    }\n",
              "\n",
              "    [theme=dark] .colab-df-convert {\n",
              "      background-color: #3B4455;\n",
              "      fill: #D2E3FC;\n",
              "    }\n",
              "\n",
              "    [theme=dark] .colab-df-convert:hover {\n",
              "      background-color: #434B5C;\n",
              "      box-shadow: 0px 1px 3px 1px rgba(0, 0, 0, 0.15);\n",
              "      filter: drop-shadow(0px 1px 2px rgba(0, 0, 0, 0.3));\n",
              "      fill: #FFFFFF;\n",
              "    }\n",
              "  </style>\n",
              "\n",
              "      <script>\n",
              "        const buttonEl =\n",
              "          document.querySelector('#df-18d4630f-7fc9-4ad9-8030-e8236129ebe8 button.colab-df-convert');\n",
              "        buttonEl.style.display =\n",
              "          google.colab.kernel.accessAllowed ? 'block' : 'none';\n",
              "\n",
              "        async function convertToInteractive(key) {\n",
              "          const element = document.querySelector('#df-18d4630f-7fc9-4ad9-8030-e8236129ebe8');\n",
              "          const dataTable =\n",
              "            await google.colab.kernel.invokeFunction('convertToInteractive',\n",
              "                                                     [key], {});\n",
              "          if (!dataTable) return;\n",
              "\n",
              "          const docLinkHtml = 'Like what you see? Visit the ' +\n",
              "            '<a target=\"_blank\" href=https://colab.research.google.com/notebooks/data_table.ipynb>data table notebook</a>'\n",
              "            + ' to learn more about interactive tables.';\n",
              "          element.innerHTML = '';\n",
              "          dataTable['output_type'] = 'display_data';\n",
              "          await google.colab.output.renderOutput(dataTable, element);\n",
              "          const docLink = document.createElement('div');\n",
              "          docLink.innerHTML = docLinkHtml;\n",
              "          element.appendChild(docLink);\n",
              "        }\n",
              "      </script>\n",
              "    </div>\n",
              "  </div>\n",
              "  "
            ]
          },
          "metadata": {},
          "execution_count": 1
        }
      ],
      "source": [
        "\"\"\"1,2\"\"\"\n",
        "import pandas as pd\n",
        "\n",
        "usa_dol=pd.read_excel('usa_dol.xlsx')\n",
        "canad_dol=pd.read_excel('canad_dol.xlsx')\n",
        "eur=pd.read_excel('eur.xlsx')\n",
        "\n",
        "usa_dol=usa_dol.drop(['cdx','nominal'],axis=1)\n",
        "canad_dol=canad_dol.drop(['cdx','nominal'],axis=1)\n",
        "eur=eur.drop(['cdx','nominal'],axis=1)\n",
        "\n",
        "usa_dol.rename(columns={\"curs\":\"USD\"}, inplace=True)\n",
        "canad_dol.rename(columns={\"curs\":\"CAD\"}, inplace=True)\n",
        "eur.rename(columns={\"curs\":\"EUR\"}, inplace=True)\n",
        "\n",
        "df=usa_dol.merge(canad_dol,on=['data'])\n",
        "df=df.merge(eur,on=['data'])\n",
        "df"
      ]
    },
    {
      "cell_type": "code",
      "source": [
        "\"\"\"3\"\"\"\n",
        "import statsmodels.api as sm\n",
        "import matplotlib.pyplot as plt\n",
        "from sklearn import preprocessing\n",
        "from sklearn.preprocessing import minmax_scale"
      ],
      "metadata": {
        "id": "yrPuBO2QZGy9"
      },
      "execution_count": null,
      "outputs": []
    },
    {
      "cell_type": "code",
      "source": [
        "eur_plot=sm.ProbPlot(df['EUR'])\n",
        "eur_plot.ppplot(line='45')\n",
        "eur_plot.qqplot(line='45')\n",
        "plt.show()"
      ],
      "metadata": {
        "id": "5sqeoTinzqqo",
        "colab": {
          "base_uri": "https://localhost:8080/",
          "height": 545
        },
        "outputId": "854ff6d0-5ba5-4879-9484-55894c280fe8"
      },
      "execution_count": null,
      "outputs": [
        {
          "output_type": "display_data",
          "data": {
            "text/plain": [
              "<Figure size 432x288 with 1 Axes>"
            ],
            "image/png": "[encoded data removed]"
          },
          "metadata": {
            "needs_background": "light"
          }
        },
        {
          "output_type": "display_data",
          "data": {
            "text/plain": [
              "<Figure size 432x288 with 1 Axes>"
            ],
            "image/png": "[encoded data removed]"
          },
          "metadata": {
            "needs_background": "light"
          }
        }
      ]
    },
    {
      "cell_type": "code",
      "source": [
        "canad_plot=sm.ProbPlot(df['CAD'])\n",
        "canad_plot.ppplot(line='45')\n",
        "canad_plot.qqplot(line='45')\n",
        "plt.show()"
      ],
      "metadata": {
        "id": "NIQ-d_P6zqzD",
        "colab": {
          "base_uri": "https://localhost:8080/",
          "height": 545
        },
        "outputId": "8c626b64-68a5-455b-8630-4ec4aa5e58aa"
      },
      "execution_count": null,
      "outputs": [
        {
          "output_type": "display_data",
          "data": {
            "text/plain": [
              "<Figure size 432x288 with 1 Axes>"
            ],
            "image/png": "[encoded data removed]"
          },
          "metadata": {
            "needs_background": "light"
          }
        },
        {
          "output_type": "display_data",
          "data": {
            "text/plain": [
              "<Figure size 432x288 with 1 Axes>"
            ],
            "image/png": "[encoded data removed]"
          },
          "metadata": {
            "needs_background": "light"
          }
        }
      ]
    },
    {
      "cell_type": "code",
      "source": [
        "#стандартизация\n",
        "df_stand=df\n",
        "df_stand['USD'] = minmax_scale(df['USD'])\n",
        "df_stand['CAD'] = minmax_scale(df['CAD'])\n",
        "df_stand['EUR'] = minmax_scale(df['EUR'])\n",
        "df_stand"
      ],
      "metadata": {
        "id": "kPozdvwl2cwV",
        "colab": {
          "base_uri": "https://localhost:8080/",
          "height": 423
        },
        "outputId": "daaad7ec-ec2b-4ddf-8262-2600c620ea61"
      },
      "execution_count": null,
      "outputs": [
        {
          "output_type": "execute_result",
          "data": {
            "text/plain": [
              "           data       USD       CAD       EUR\n",
              "0    2022-11-02  0.148359  0.096822  0.102579\n",
              "1    2022-11-01  0.151182  0.101553  0.104484\n",
              "2    2022-10-29  0.149902  0.104545  0.104648\n",
              "3    2022-10-28  0.147368  0.101039  0.110121\n",
              "4    2022-10-27  0.148362  0.097497  0.110076\n",
              "...         ...       ...       ...       ...\n",
              "1248 2017-10-07  0.095394  0.113377  0.184449\n",
              "1249 2017-10-06  0.092792  0.118534  0.187494\n",
              "1250 2017-10-05  0.095712  0.120774  0.189451\n",
              "1251 2017-10-04  0.097941  0.120591  0.190052\n",
              "1252 2017-10-03  0.096148  0.118759  0.189101\n",
              "\n",
              "[1253 rows x 4 columns]"
            ],
            "text/html": [
              "\n",
              "  <div id=\"df-132ff842-ba5a-4052-b28c-7f76e67ab7ee\">\n",
              "    <div class=\"colab-df-container\">\n",
              "      <div>\n",
              "<style scoped>\n",
              "    .dataframe tbody tr th:only-of-type {\n",
              "        vertical-align: middle;\n",
              "    }\n",
              "\n",
              "    .dataframe tbody tr th {\n",
              "        vertical-align: top;\n",
              "    }\n",
              "\n",
              "    .dataframe thead th {\n",
              "        text-align: right;\n",
              "    }\n",
              "</style>\n",
              "<table border=\"1\" class=\"dataframe\">\n",
              "  <thead>\n",
              "    <tr style=\"text-align: right;\">\n",
              "      <th></th>\n",
              "      <th>data</th>\n",
              "      <th>USD</th>\n",
              "      <th>CAD</th>\n",
              "      <th>EUR</th>\n",
              "    </tr>\n",
              "  </thead>\n",
              "  <tbody>\n",
              "    <tr>\n",
              "      <th>0</th>\n",
              "      <td>2022-11-02</td>\n",
              "      <td>0.148359</td>\n",
              "      <td>0.096822</td>\n",
              "      <td>0.102579</td>\n",
              "    </tr>\n",
              "    <tr>\n",
              "      <th>1</th>\n",
              "      <td>2022-11-01</td>\n",
              "      <td>0.151182</td>\n",
              "      <td>0.101553</td>\n",
              "      <td>0.104484</td>\n",
              "    </tr>\n",
              "    <tr>\n",
              "      <th>2</th>\n",
              "      <td>2022-10-29</td>\n",
              "      <td>0.149902</td>\n",
              "      <td>0.104545</td>\n",
              "      <td>0.104648</td>\n",
              "    </tr>\n",
              "    <tr>\n",
              "      <th>3</th>\n",
              "      <td>2022-10-28</td>\n",
              "      <td>0.147368</td>\n",
              "      <td>0.101039</td>\n",
              "      <td>0.110121</td>\n",
              "    </tr>\n",
              "    <tr>\n",
              "      <th>4</th>\n",
              "      <td>2022-10-27</td>\n",
              "      <td>0.148362</td>\n",
              "      <td>0.097497</td>\n",
              "      <td>0.110076</td>\n",
              "    </tr>\n",
              "    <tr>\n",
              "      <th>...</th>\n",
              "      <td>...</td>\n",
              "      <td>...</td>\n",
              "      <td>...</td>\n",
              "      <td>...</td>\n",
              "    </tr>\n",
              "    <tr>\n",
              "      <th>1248</th>\n",
              "      <td>2017-10-07</td>\n",
              "      <td>0.095394</td>\n",
              "      <td>0.113377</td>\n",
              "      <td>0.184449</td>\n",
              "    </tr>\n",
              "    <tr>\n",
              "      <th>1249</th>\n",
              "      <td>2017-10-06</td>\n",
              "      <td>0.092792</td>\n",
              "      <td>0.118534</td>\n",
              "      <td>0.187494</td>\n",
              "    </tr>\n",
              "    <tr>\n",
              "      <th>1250</th>\n",
              "      <td>2017-10-05</td>\n",
              "      <td>0.095712</td>\n",
              "      <td>0.120774</td>\n",
              "      <td>0.189451</td>\n",
              "    </tr>\n",
              "    <tr>\n",
              "      <th>1251</th>\n",
              "      <td>2017-10-04</td>\n",
              "      <td>0.097941</td>\n",
              "      <td>0.120591</td>\n",
              "      <td>0.190052</td>\n",
              "    </tr>\n",
              "    <tr>\n",
              "      <th>1252</th>\n",
              "      <td>2017-10-03</td>\n",
              "      <td>0.096148</td>\n",
              "      <td>0.118759</td>\n",
              "      <td>0.189101</td>\n",
              "    </tr>\n",
              "  </tbody>\n",
              "</table>\n",
              "<p>1253 rows × 4 columns</p>\n",
              "</div>\n",
              "      <button class=\"colab-df-convert\" onclick=\"convertToInteractive('df-132ff842-ba5a-4052-b28c-7f76e67ab7ee')\"\n",
              "              title=\"Convert this dataframe to an interactive table.\"\n",
              "              style=\"display:none;\">\n",
              "        \n",
              "  <svg xmlns=\"http://www.w3.org/2000/svg\" height=\"24px\"viewBox=\"0 0 24 24\"\n",
              "       width=\"24px\">\n",
              "    <path d=\"M0 0h24v24H0V0z\" fill=\"none\"/>\n",
              "    <path d=\"M18.56 5.44l.94 2.06.94-2.06 2.06-.94-2.06-.94-.94-2.06-.94 2.06-2.06.94zm-11 1L8.5 8.5l.94-2.06 2.06-.94-2.06-.94L8.5 2.5l-.94 2.06-2.06.94zm10 10l.94 2.06.94-2.06 2.06-.94-2.06-.94-.94-2.06-.94 2.06-2.06.94z\"/><path d=\"M17.41 7.96l-1.37-1.37c-.4-.4-.92-.59-1.43-.59-.52 0-1.04.2-1.43.59L10.3 9.45l-7.72 7.72c-.78.78-.78 2.05 0 2.83L4 21.41c.39.39.9.59 1.41.59.51 0 1.02-.2 1.41-.59l7.78-7.78 2.81-2.81c.8-.78.8-2.07 0-2.86zM5.41 20L4 18.59l7.72-7.72 1.47 1.35L5.41 20z\"/>\n",
              "  </svg>\n",
              "      </button>\n",
              "      \n",
              "  <style>\n",
              "    .colab-df-container {\n",
              "      display:flex;\n",
              "      flex-wrap:wrap;\n",
              "      gap: 12px;\n",
              "    }\n",
              "\n",
              "    .colab-df-convert {\n",
              "      background-color: #E8F0FE;\n",
              "      border: none;\n",
              "      border-radius: 50%;\n",
              "      cursor: pointer;\n",
              "      display: none;\n",
              "      fill: #1967D2;\n",
              "      height: 32px;\n",
              "      padding: 0 0 0 0;\n",
              "      width: 32px;\n",
              "    }\n",
              "\n",
              "    .colab-df-convert:hover {\n",
              "      background-color: #E2EBFA;\n",
              "      box-shadow: 0px 1px 2px rgba(60, 64, 67, 0.3), 0px 1px 3px 1px rgba(60, 64, 67, 0.15);\n",
              "      fill: #174EA6;\n",
              "    }\n",
              "\n",
              "    [theme=dark] .colab-df-convert {\n",
              "      background-color: #3B4455;\n",
              "      fill: #D2E3FC;\n",
              "    }\n",
              "\n",
              "    [theme=dark] .colab-df-convert:hover {\n",
              "      background-color: #434B5C;\n",
              "      box-shadow: 0px 1px 3px 1px rgba(0, 0, 0, 0.15);\n",
              "      filter: drop-shadow(0px 1px 2px rgba(0, 0, 0, 0.3));\n",
              "      fill: #FFFFFF;\n",
              "    }\n",
              "  </style>\n",
              "\n",
              "      <script>\n",
              "        const buttonEl =\n",
              "          document.querySelector('#df-132ff842-ba5a-4052-b28c-7f76e67ab7ee button.colab-df-convert');\n",
              "        buttonEl.style.display =\n",
              "          google.colab.kernel.accessAllowed ? 'block' : 'none';\n",
              "\n",
              "        async function convertToInteractive(key) {\n",
              "          const element = document.querySelector('#df-132ff842-ba5a-4052-b28c-7f76e67ab7ee');\n",
              "          const dataTable =\n",
              "            await google.colab.kernel.invokeFunction('convertToInteractive',\n",
              "                                                     [key], {});\n",
              "          if (!dataTable) return;\n",
              "\n",
              "          const docLinkHtml = 'Like what you see? Visit the ' +\n",
              "            '<a target=\"_blank\" href=https://colab.research.google.com/notebooks/data_table.ipynb>data table notebook</a>'\n",
              "            + ' to learn more about interactive tables.';\n",
              "          element.innerHTML = '';\n",
              "          dataTable['output_type'] = 'display_data';\n",
              "          await google.colab.output.renderOutput(dataTable, element);\n",
              "          const docLink = document.createElement('div');\n",
              "          docLink.innerHTML = docLinkHtml;\n",
              "          element.appendChild(docLink);\n",
              "        }\n",
              "      </script>\n",
              "    </div>\n",
              "  </div>\n",
              "  "
            ]
          },
          "metadata": {},
          "execution_count": 5
        }
      ]
    },
    {
      "cell_type": "code",
      "source": [
        "#нормализация\n",
        "scaler_std=preprocessing.StandardScaler()\n",
        "df_stand['USD'] = scaler_std.fit_transform(df[['USD']])\n",
        "df_stand['EUR'] = scaler_std.fit_transform(df[['EUR']])\n",
        "df_stand['CAD'] = scaler_std.fit_transform(df[['CAD']])\n",
        "df_stand"
      ],
      "metadata": {
        "id": "SBhkw8dzHjI6",
        "colab": {
          "base_uri": "https://localhost:8080/",
          "height": 423
        },
        "outputId": "6fe3a42b-9ffb-41cf-d962-a2cff0aed637"
      },
      "execution_count": null,
      "outputs": [
        {
          "output_type": "execute_result",
          "data": {
            "text/plain": [
              "           data       USD       CAD       EUR\n",
              "0    2022-11-02 -0.810863 -1.093862 -1.590240\n",
              "1    2022-11-01 -0.786848 -1.055953 -1.575659\n",
              "2    2022-10-29 -0.797737 -1.031984 -1.574399\n",
              "3    2022-10-28 -0.819294 -1.060072 -1.532505\n",
              "4    2022-10-27 -0.810839 -1.088455 -1.532849\n",
              "...         ...       ...       ...       ...\n",
              "1248 2017-10-07 -1.261466 -0.961218 -0.963492\n",
              "1249 2017-10-06 -1.283601 -0.919901 -0.940178\n",
              "1250 2017-10-05 -1.258762 -0.901947 -0.925195\n",
              "1251 2017-10-04 -1.239798 -0.903413 -0.920596\n",
              "1252 2017-10-03 -1.255051 -0.918094 -0.927877\n",
              "\n",
              "[1253 rows x 4 columns]"
            ],
            "text/html": [
              "\n",
              "  <div id=\"df-882a7cd2-6f87-44db-8f99-ebd80e5397a8\">\n",
              "    <div class=\"colab-df-container\">\n",
              "      <div>\n",
              "<style scoped>\n",
              "    .dataframe tbody tr th:only-of-type {\n",
              "        vertical-align: middle;\n",
              "    }\n",
              "\n",
              "    .dataframe tbody tr th {\n",
              "        vertical-align: top;\n",
              "    }\n",
              "\n",
              "    .dataframe thead th {\n",
              "        text-align: right;\n",
              "    }\n",
              "</style>\n",
              "<table border=\"1\" class=\"dataframe\">\n",
              "  <thead>\n",
              "    <tr style=\"text-align: right;\">\n",
              "      <th></th>\n",
              "      <th>data</th>\n",
              "      <th>USD</th>\n",
              "      <th>CAD</th>\n",
              "      <th>EUR</th>\n",
              "    </tr>\n",
              "  </thead>\n",
              "  <tbody>\n",
              "    <tr>\n",
              "      <th>0</th>\n",
              "      <td>2022-11-02</td>\n",
              "      <td>-0.810863</td>\n",
              "      <td>-1.093862</td>\n",
              "      <td>-1.590240</td>\n",
              "    </tr>\n",
              "    <tr>\n",
              "      <th>1</th>\n",
              "      <td>2022-11-01</td>\n",
              "      <td>-0.786848</td>\n",
              "      <td>-1.055953</td>\n",
              "      <td>-1.575659</td>\n",
              "    </tr>\n",
              "    <tr>\n",
              "      <th>2</th>\n",
              "      <td>2022-10-29</td>\n",
              "      <td>-0.797737</td>\n",
              "      <td>-1.031984</td>\n",
              "      <td>-1.574399</td>\n",
              "    </tr>\n",
              "    <tr>\n",
              "      <th>3</th>\n",
              "      <td>2022-10-28</td>\n",
              "      <td>-0.819294</td>\n",
              "      <td>-1.060072</td>\n",
              "      <td>-1.532505</td>\n",
              "    </tr>\n",
              "    <tr>\n",
              "      <th>4</th>\n",
              "      <td>2022-10-27</td>\n",
              "      <td>-0.810839</td>\n",
              "      <td>-1.088455</td>\n",
              "      <td>-1.532849</td>\n",
              "    </tr>\n",
              "    <tr>\n",
              "      <th>...</th>\n",
              "      <td>...</td>\n",
              "      <td>...</td>\n",
              "      <td>...</td>\n",
              "      <td>...</td>\n",
              "    </tr>\n",
              "    <tr>\n",
              "      <th>1248</th>\n",
              "      <td>2017-10-07</td>\n",
              "      <td>-1.261466</td>\n",
              "      <td>-0.961218</td>\n",
              "      <td>-0.963492</td>\n",
              "    </tr>\n",
              "    <tr>\n",
              "      <th>1249</th>\n",
              "      <td>2017-10-06</td>\n",
              "      <td>-1.283601</td>\n",
              "      <td>-0.919901</td>\n",
              "      <td>-0.940178</td>\n",
              "    </tr>\n",
              "    <tr>\n",
              "      <th>1250</th>\n",
              "      <td>2017-10-05</td>\n",
              "      <td>-1.258762</td>\n",
              "      <td>-0.901947</td>\n",
              "      <td>-0.925195</td>\n",
              "    </tr>\n",
              "    <tr>\n",
              "      <th>1251</th>\n",
              "      <td>2017-10-04</td>\n",
              "      <td>-1.239798</td>\n",
              "      <td>-0.903413</td>\n",
              "      <td>-0.920596</td>\n",
              "    </tr>\n",
              "    <tr>\n",
              "      <th>1252</th>\n",
              "      <td>2017-10-03</td>\n",
              "      <td>-1.255051</td>\n",
              "      <td>-0.918094</td>\n",
              "      <td>-0.927877</td>\n",
              "    </tr>\n",
              "  </tbody>\n",
              "</table>\n",
              "<p>1253 rows × 4 columns</p>\n",
              "</div>\n",
              "      <button class=\"colab-df-convert\" onclick=\"convertToInteractive('df-882a7cd2-6f87-44db-8f99-ebd80e5397a8')\"\n",
              "              title=\"Convert this dataframe to an interactive table.\"\n",
              "              style=\"display:none;\">\n",
              "        \n",
              "  <svg xmlns=\"http://www.w3.org/2000/svg\" height=\"24px\"viewBox=\"0 0 24 24\"\n",
              "       width=\"24px\">\n",
              "    <path d=\"M0 0h24v24H0V0z\" fill=\"none\"/>\n",
              "    <path d=\"M18.56 5.44l.94 2.06.94-2.06 2.06-.94-2.06-.94-.94-2.06-.94 2.06-2.06.94zm-11 1L8.5 8.5l.94-2.06 2.06-.94-2.06-.94L8.5 2.5l-.94 2.06-2.06.94zm10 10l.94 2.06.94-2.06 2.06-.94-2.06-.94-.94-2.06-.94 2.06-2.06.94z\"/><path d=\"M17.41 7.96l-1.37-1.37c-.4-.4-.92-.59-1.43-.59-.52 0-1.04.2-1.43.59L10.3 9.45l-7.72 7.72c-.78.78-.78 2.05 0 2.83L4 21.41c.39.39.9.59 1.41.59.51 0 1.02-.2 1.41-.59l7.78-7.78 2.81-2.81c.8-.78.8-2.07 0-2.86zM5.41 20L4 18.59l7.72-7.72 1.47 1.35L5.41 20z\"/>\n",
              "  </svg>\n",
              "      </button>\n",
              "      \n",
              "  <style>\n",
              "    .colab-df-container {\n",
              "      display:flex;\n",
              "      flex-wrap:wrap;\n",
              "      gap: 12px;\n",
              "    }\n",
              "\n",
              "    .colab-df-convert {\n",
              "      background-color: #E8F0FE;\n",
              "      border: none;\n",
              "      border-radius: 50%;\n",
              "      cursor: pointer;\n",
              "      display: none;\n",
              "      fill: #1967D2;\n",
              "      height: 32px;\n",
              "      padding: 0 0 0 0;\n",
              "      width: 32px;\n",
              "    }\n",
              "\n",
              "    .colab-df-convert:hover {\n",
              "      background-color: #E2EBFA;\n",
              "      box-shadow: 0px 1px 2px rgba(60, 64, 67, 0.3), 0px 1px 3px 1px rgba(60, 64, 67, 0.15);\n",
              "      fill: #174EA6;\n",
              "    }\n",
              "\n",
              "    [theme=dark] .colab-df-convert {\n",
              "      background-color: #3B4455;\n",
              "      fill: #D2E3FC;\n",
              "    }\n",
              "\n",
              "    [theme=dark] .colab-df-convert:hover {\n",
              "      background-color: #434B5C;\n",
              "      box-shadow: 0px 1px 3px 1px rgba(0, 0, 0, 0.15);\n",
              "      filter: drop-shadow(0px 1px 2px rgba(0, 0, 0, 0.3));\n",
              "      fill: #FFFFFF;\n",
              "    }\n",
              "  </style>\n",
              "\n",
              "      <script>\n",
              "        const buttonEl =\n",
              "          document.querySelector('#df-882a7cd2-6f87-44db-8f99-ebd80e5397a8 button.colab-df-convert');\n",
              "        buttonEl.style.display =\n",
              "          google.colab.kernel.accessAllowed ? 'block' : 'none';\n",
              "\n",
              "        async function convertToInteractive(key) {\n",
              "          const element = document.querySelector('#df-882a7cd2-6f87-44db-8f99-ebd80e5397a8');\n",
              "          const dataTable =\n",
              "            await google.colab.kernel.invokeFunction('convertToInteractive',\n",
              "                                                     [key], {});\n",
              "          if (!dataTable) return;\n",
              "\n",
              "          const docLinkHtml = 'Like what you see? Visit the ' +\n",
              "            '<a target=\"_blank\" href=https://colab.research.google.com/notebooks/data_table.ipynb>data table notebook</a>'\n",
              "            + ' to learn more about interactive tables.';\n",
              "          element.innerHTML = '';\n",
              "          dataTable['output_type'] = 'display_data';\n",
              "          await google.colab.output.renderOutput(dataTable, element);\n",
              "          const docLink = document.createElement('div');\n",
              "          docLink.innerHTML = docLinkHtml;\n",
              "          element.appendChild(docLink);\n",
              "        }\n",
              "      </script>\n",
              "    </div>\n",
              "  </div>\n",
              "  "
            ]
          },
          "metadata": {},
          "execution_count": 6
        }
      ]
    },
    {
      "cell_type": "code",
      "source": [],
      "metadata": {
        "id": "rd3oouCDIyIC"
      },
      "execution_count": null,
      "outputs": []
    },
    {
      "cell_type": "code",
      "source": [
        "canad_plot=sm.ProbPlot(df_stand['CAD'])\n",
        "canad_plot.ppplot(line='45')\n",
        "canad_plot.qqplot(line='45')\n",
        "plt.show()"
      ],
      "metadata": {
        "id": "F7mCnwDk2k_r",
        "colab": {
          "base_uri": "https://localhost:8080/",
          "height": 545
        },
        "outputId": "6f8e0d00-8071-45e8-950e-e00ff4d97b90"
      },
      "execution_count": null,
      "outputs": [
        {
          "output_type": "display_data",
          "data": {
            "text/plain": [
              "<Figure size 432x288 with 1 Axes>"
            ],
            "image/png": "[encoded data removed]"
          },
          "metadata": {
            "needs_background": "light"
          }
        },
        {
          "output_type": "display_data",
          "data": {
            "text/plain": [
              "<Figure size 432x288 with 1 Axes>"
            ],
            "image/png": "[encoded data removed]"
          },
          "metadata": {
            "needs_background": "light"
          }
        }
      ]
    },
    {
      "cell_type": "code",
      "source": [
        "eur_plot=sm.ProbPlot(df_stand['EUR'])\n",
        "eur_plot.ppplot(line='45')\n",
        "eur_plot.qqplot(line='45')\n",
        "plt.show()"
      ],
      "metadata": {
        "id": "HmbxmiFv3FuX",
        "colab": {
          "base_uri": "https://localhost:8080/",
          "height": 545
        },
        "outputId": "42c061da-bc63-4fdd-fd86-8caf19e447ac"
      },
      "execution_count": null,
      "outputs": [
        {
          "output_type": "display_data",
          "data": {
            "text/plain": [
              "<Figure size 432x288 with 1 Axes>"
            ],
            "image/png": "[encoded data removed]"
          },
          "metadata": {
            "needs_background": "light"
          }
        },
        {
          "output_type": "display_data",
          "data": {
            "text/plain": [
              "<Figure size 432x288 with 1 Axes>"
            ],
            "image/png": "[encoded data removed]"
          },
          "metadata": {
            "needs_background": "light"
          }
        }
      ]
    },
    {
      "cell_type": "code",
      "source": [
        "usd_plot=sm.ProbPlot(df_stand['USD'])\n",
        "usd_plot.ppplot(line='45')\n",
        "usd_plot.qqplot(line='45')\n",
        "plt.show()"
      ],
      "metadata": {
        "id": "hmOAZVah2_6N",
        "colab": {
          "base_uri": "https://localhost:8080/",
          "height": 545
        },
        "outputId": "f2404b62-d743-4b5e-ce25-82ac2d0b0bc9"
      },
      "execution_count": null,
      "outputs": [
        {
          "output_type": "display_data",
          "data": {
            "text/plain": [
              "<Figure size 432x288 with 1 Axes>"
            ],
            "image/png": "[encoded data removed]"
          },
          "metadata": {
            "needs_background": "light"
          }
        },
        {
          "output_type": "display_data",
          "data": {
            "text/plain": [
              "<Figure size 432x288 with 1 Axes>"
            ],
            "image/png": "[encoded data removed]"
          },
          "metadata": {
            "needs_background": "light"
          }
        }
      ]
    },
    {
      "cell_type": "code",
      "source": [
        "\"\"\"4\"\"\"\n",
        "fig, ax = plt.subplots()\n",
        "ax.vlines(df[\"USD\"].mean(), 0, df[\"USD\"].size, colors = \"Red\")\n",
        "ax.vlines(df[\"USD\"].median(), 0, df[\"USD\"].size, colors = \"Green\")\n",
        "ax.vlines(df[\"USD\"].mode()[0], 0, df[\"USD\"].size, colors = \"Purple\")\n",
        "df[\"USD\"].plot.hist()\n",
        "plt.show()"
      ],
      "metadata": {
        "id": "u6aWd4dU3I98",
        "colab": {
          "base_uri": "https://localhost:8080/",
          "height": 265
        },
        "outputId": "96965791-a72a-4b84-b23b-8d830ff29871"
      },
      "execution_count": null,
      "outputs": [
        {
          "output_type": "display_data",
          "data": {
            "text/plain": [
              "<Figure size 432x288 with 1 Axes>"
            ],
            "image/png": "[encoded data removed]"
          },
          "metadata": {
            "needs_background": "light"
          }
        }
      ]
    },
    {
      "cell_type": "code",
      "source": [
        "fig, ax = plt.subplots()\n",
        "ax.vlines(df[\"CAD\"].mean(), 0, df[\"CAD\"].size, colors = \"Red\")\n",
        "ax.vlines(df[\"CAD\"].median(), 0, df[\"CAD\"].size, colors = \"Green\")\n",
        "ax.vlines(df[\"CAD\"].mode()[0], 0, df[\"CAD\"].size, colors = \"Purple\")\n",
        "df[\"CAD\"].plot.hist()\n",
        "plt.show()"
      ],
      "metadata": {
        "id": "fhLXbjxiuAKr",
        "colab": {
          "base_uri": "https://localhost:8080/",
          "height": 265
        },
        "outputId": "8b8923bb-487e-4f57-fac6-4f0ec04e2195"
      },
      "execution_count": null,
      "outputs": [
        {
          "output_type": "display_data",
          "data": {
            "text/plain": [
              "<Figure size 432x288 with 1 Axes>"
            ],
            "image/png": "[encoded data removed]"
          },
          "metadata": {
            "needs_background": "light"
          }
        }
      ]
    },
    {
      "cell_type": "code",
      "source": [
        "fig, ax = plt.subplots()\n",
        "ax.vlines(df[\"EUR\"].mean(), 0, df[\"EUR\"].size, colors = \"Red\")\n",
        "ax.vlines(df[\"EUR\"].median(), 0, df[\"EUR\"].size, colors = \"Green\")\n",
        "ax.vlines(df[\"EUR\"].mode()[0], 0, df[\"EUR\"].size, colors = \"Purple\")\n",
        "df[\"EUR\"].plot.hist()\n",
        "plt.show()"
      ],
      "metadata": {
        "id": "-PVD56WtuAd6",
        "colab": {
          "base_uri": "https://localhost:8080/",
          "height": 265
        },
        "outputId": "f980bd25-75d6-4d9f-d8a6-dd763d52030e"
      },
      "execution_count": null,
      "outputs": [
        {
          "output_type": "display_data",
          "data": {
            "text/plain": [
              "<Figure size 432x288 with 1 Axes>"
            ],
            "image/png": "[encoded data removed]"
          },
          "metadata": {
            "needs_background": "light"
          }
        }
      ]
    },
    {
      "cell_type": "code",
      "source": [
        "\"\"\"5\"\"\"\n",
        "len(df)"
      ],
      "metadata": {
        "id": "q77jpYGCu4qa",
        "colab": {
          "base_uri": "https://localhost:8080/"
        },
        "outputId": "75c4ff94-2ec0-4962-e4bc-c303a8bd4f17"
      },
      "execution_count": null,
      "outputs": [
        {
          "output_type": "execute_result",
          "data": {
            "text/plain": [
              "1253"
            ]
          },
          "metadata": {},
          "execution_count": 13
        }
      ]
    },
    {
      "cell_type": "markdown",
      "source": [
        "используется критерий Шапиро-Уилка так, как число наблюдений < 2000\n",
        "\n",
        "p.s.\n",
        "\n",
        "7-2000 наблюдений – критерий Шапиро-Уилка (основан на отношении оптимальной\n",
        "линейной несмещённой оценке дисперсии к её обычной оценке методом\n",
        "максимального правдоподобия);"
      ],
      "metadata": {
        "id": "C8bvS45avYXH"
      }
    },
    {
      "cell_type": "code",
      "source": [
        "from scipy import stats\n",
        "print(stats.shapiro(list(df[\"USD\"])), stats.shapiro(list(df[\"CAD\"])), stats.shapiro(list(df[\"EUR\"])), sep='\\n')"
      ],
      "metadata": {
        "id": "hbJaPuSAu7l6",
        "colab": {
          "base_uri": "https://localhost:8080/"
        },
        "outputId": "f70822f3-d997-4d3e-c5ff-3950192faba8"
      },
      "execution_count": null,
      "outputs": [
        {
          "output_type": "stream",
          "name": "stdout",
          "text": [
            "ShapiroResult(statistic=0.8784806728363037, pvalue=3.429513984399734e-30)\n",
            "ShapiroResult(statistic=0.8557507991790771, pvalue=2.3233576783709402e-32)\n",
            "ShapiroResult(statistic=0.9436990022659302, pvalue=1.9691165748279453e-21)\n"
          ]
        }
      ]
    },
    {
      "cell_type": "code",
      "source": [
        "\"\"\"6\"\"\"\n",
        "df.boxplot(column=\"USD\")\n"
      ],
      "metadata": {
        "id": "MGKkanDG94fB",
        "colab": {
          "base_uri": "https://localhost:8080/",
          "height": 283
        },
        "outputId": "ebe23124-259e-4c47-e6ca-8c8fc3056dec"
      },
      "execution_count": null,
      "outputs": [
        {
          "output_type": "execute_result",
          "data": {
            "text/plain": [
              "<matplotlib.axes._subplots.AxesSubplot at 0x7f2ab43cad10>"
            ]
          },
          "metadata": {},
          "execution_count": 15
        },
        {
          "output_type": "display_data",
          "data": {
            "text/plain": [
              "<Figure size 432x288 with 1 Axes>"
            ],
            "image/png": "[encoded data removed]"
          },
          "metadata": {
            "needs_background": "light"
          }
        }
      ]
    },
    {
      "cell_type": "markdown",
      "source": [
        "очистка данных для переменной USD"
      ],
      "metadata": {
        "id": "8N5MpXR4EZ3a"
      }
    },
    {
      "cell_type": "code",
      "source": [
        "Q1 =  df['USD'].quantile(0.25)\n",
        "Q3 = df['USD'].quantile(0.75)\n",
        "IQR = Q3 - Q1\n",
        "data_usd = pd.DataFrame(df['USD']).query(\"@Q1 - 1.5*@IQR < USD < @Q3 + 1.5*@IQR\")\n",
        "data_usd"
      ],
      "metadata": {
        "id": "yPWsv3zHD9ad",
        "colab": {
          "base_uri": "https://localhost:8080/",
          "height": 423
        },
        "outputId": "792c19bb-1da5-4e53-f648-2afc79ba5430"
      },
      "execution_count": null,
      "outputs": [
        {
          "output_type": "execute_result",
          "data": {
            "text/plain": [
              "           USD\n",
              "0    -0.810863\n",
              "1    -0.786848\n",
              "2    -0.797737\n",
              "3    -0.819294\n",
              "4    -0.810839\n",
              "...        ...\n",
              "1248 -1.261466\n",
              "1249 -1.283601\n",
              "1250 -1.258762\n",
              "1251 -1.239798\n",
              "1252 -1.255051\n",
              "\n",
              "[1233 rows x 1 columns]"
            ],
            "text/html": [
              "\n",
              "  <div id=\"df-439ec473-597c-47f2-88c2-57be23d1b2b7\">\n",
              "    <div class=\"colab-df-container\">\n",
              "      <div>\n",
              "<style scoped>\n",
              "    .dataframe tbody tr th:only-of-type {\n",
              "        vertical-align: middle;\n",
              "    }\n",
              "\n",
              "    .dataframe tbody tr th {\n",
              "        vertical-align: top;\n",
              "    }\n",
              "\n",
              "    .dataframe thead th {\n",
              "        text-align: right;\n",
              "    }\n",
              "</style>\n",
              "<table border=\"1\" class=\"dataframe\">\n",
              "  <thead>\n",
              "    <tr style=\"text-align: right;\">\n",
              "      <th></th>\n",
              "      <th>USD</th>\n",
              "    </tr>\n",
              "  </thead>\n",
              "  <tbody>\n",
              "    <tr>\n",
              "      <th>0</th>\n",
              "      <td>-0.810863</td>\n",
              "    </tr>\n",
              "    <tr>\n",
              "      <th>1</th>\n",
              "      <td>-0.786848</td>\n",
              "    </tr>\n",
              "    <tr>\n",
              "      <th>2</th>\n",
              "      <td>-0.797737</td>\n",
              "    </tr>\n",
              "    <tr>\n",
              "      <th>3</th>\n",
              "      <td>-0.819294</td>\n",
              "    </tr>\n",
              "    <tr>\n",
              "      <th>4</th>\n",
              "      <td>-0.810839</td>\n",
              "    </tr>\n",
              "    <tr>\n",
              "      <th>...</th>\n",
              "      <td>...</td>\n",
              "    </tr>\n",
              "    <tr>\n",
              "      <th>1248</th>\n",
              "      <td>-1.261466</td>\n",
              "    </tr>\n",
              "    <tr>\n",
              "      <th>1249</th>\n",
              "      <td>-1.283601</td>\n",
              "    </tr>\n",
              "    <tr>\n",
              "      <th>1250</th>\n",
              "      <td>-1.258762</td>\n",
              "    </tr>\n",
              "    <tr>\n",
              "      <th>1251</th>\n",
              "      <td>-1.239798</td>\n",
              "    </tr>\n",
              "    <tr>\n",
              "      <th>1252</th>\n",
              "      <td>-1.255051</td>\n",
              "    </tr>\n",
              "  </tbody>\n",
              "</table>\n",
              "<p>1233 rows × 1 columns</p>\n",
              "</div>\n",
              "      <button class=\"colab-df-convert\" onclick=\"convertToInteractive('df-439ec473-597c-47f2-88c2-57be23d1b2b7')\"\n",
              "              title=\"Convert this dataframe to an interactive table.\"\n",
              "              style=\"display:none;\">\n",
              "        \n",
              "  <svg xmlns=\"http://www.w3.org/2000/svg\" height=\"24px\"viewBox=\"0 0 24 24\"\n",
              "       width=\"24px\">\n",
              "    <path d=\"M0 0h24v24H0V0z\" fill=\"none\"/>\n",
              "    <path d=\"M18.56 5.44l.94 2.06.94-2.06 2.06-.94-2.06-.94-.94-2.06-.94 2.06-2.06.94zm-11 1L8.5 8.5l.94-2.06 2.06-.94-2.06-.94L8.5 2.5l-.94 2.06-2.06.94zm10 10l.94 2.06.94-2.06 2.06-.94-2.06-.94-.94-2.06-.94 2.06-2.06.94z\"/><path d=\"M17.41 7.96l-1.37-1.37c-.4-.4-.92-.59-1.43-.59-.52 0-1.04.2-1.43.59L10.3 9.45l-7.72 7.72c-.78.78-.78 2.05 0 2.83L4 21.41c.39.39.9.59 1.41.59.51 0 1.02-.2 1.41-.59l7.78-7.78 2.81-2.81c.8-.78.8-2.07 0-2.86zM5.41 20L4 18.59l7.72-7.72 1.47 1.35L5.41 20z\"/>\n",
              "  </svg>\n",
              "      </button>\n",
              "      \n",
              "  <style>\n",
              "    .colab-df-container {\n",
              "      display:flex;\n",
              "      flex-wrap:wrap;\n",
              "      gap: 12px;\n",
              "    }\n",
              "\n",
              "    .colab-df-convert {\n",
              "      background-color: #E8F0FE;\n",
              "      border: none;\n",
              "      border-radius: 50%;\n",
              "      cursor: pointer;\n",
              "      display: none;\n",
              "      fill: #1967D2;\n",
              "      height: 32px;\n",
              "      padding: 0 0 0 0;\n",
              "      width: 32px;\n",
              "    }\n",
              "\n",
              "    .colab-df-convert:hover {\n",
              "      background-color: #E2EBFA;\n",
              "      box-shadow: 0px 1px 2px rgba(60, 64, 67, 0.3), 0px 1px 3px 1px rgba(60, 64, 67, 0.15);\n",
              "      fill: #174EA6;\n",
              "    }\n",
              "\n",
              "    [theme=dark] .colab-df-convert {\n",
              "      background-color: #3B4455;\n",
              "      fill: #D2E3FC;\n",
              "    }\n",
              "\n",
              "    [theme=dark] .colab-df-convert:hover {\n",
              "      background-color: #434B5C;\n",
              "      box-shadow: 0px 1px 3px 1px rgba(0, 0, 0, 0.15);\n",
              "      filter: drop-shadow(0px 1px 2px rgba(0, 0, 0, 0.3));\n",
              "      fill: #FFFFFF;\n",
              "    }\n",
              "  </style>\n",
              "\n",
              "      <script>\n",
              "        const buttonEl =\n",
              "          document.querySelector('#df-439ec473-597c-47f2-88c2-57be23d1b2b7 button.colab-df-convert');\n",
              "        buttonEl.style.display =\n",
              "          google.colab.kernel.accessAllowed ? 'block' : 'none';\n",
              "\n",
              "        async function convertToInteractive(key) {\n",
              "          const element = document.querySelector('#df-439ec473-597c-47f2-88c2-57be23d1b2b7');\n",
              "          const dataTable =\n",
              "            await google.colab.kernel.invokeFunction('convertToInteractive',\n",
              "                                                     [key], {});\n",
              "          if (!dataTable) return;\n",
              "\n",
              "          const docLinkHtml = 'Like what you see? Visit the ' +\n",
              "            '<a target=\"_blank\" href=https://colab.research.google.com/notebooks/data_table.ipynb>data table notebook</a>'\n",
              "            + ' to learn more about interactive tables.';\n",
              "          element.innerHTML = '';\n",
              "          dataTable['output_type'] = 'display_data';\n",
              "          await google.colab.output.renderOutput(dataTable, element);\n",
              "          const docLink = document.createElement('div');\n",
              "          docLink.innerHTML = docLinkHtml;\n",
              "          element.appendChild(docLink);\n",
              "        }\n",
              "      </script>\n",
              "    </div>\n",
              "  </div>\n",
              "  "
            ]
          },
          "metadata": {},
          "execution_count": 16
        }
      ]
    },
    {
      "cell_type": "markdown",
      "source": [
        "очистка данных для переменной CAD"
      ],
      "metadata": {
        "id": "Ve_ZdjabFFP9"
      }
    },
    {
      "cell_type": "code",
      "source": [
        "df.boxplot(column=\"CAD\")"
      ],
      "metadata": {
        "id": "xMGehxrGFEJA",
        "colab": {
          "base_uri": "https://localhost:8080/",
          "height": 283
        },
        "outputId": "086b7989-8957-47cd-df7a-ba6e5305f412"
      },
      "execution_count": null,
      "outputs": [
        {
          "output_type": "execute_result",
          "data": {
            "text/plain": [
              "<matplotlib.axes._subplots.AxesSubplot at 0x7f2ab4463e90>"
            ]
          },
          "metadata": {},
          "execution_count": 17
        },
        {
          "output_type": "display_data",
          "data": {
            "text/plain": [
              "<Figure size 432x288 with 1 Axes>"
            ],
            "image/png": "[encoded data removed]"
          },
          "metadata": {
            "needs_background": "light"
          }
        }
      ]
    },
    {
      "cell_type": "code",
      "source": [
        "Q1 =  df['CAD'].quantile(0.25)\n",
        "Q3 = df['CAD'].quantile(0.75)\n",
        "IQR = Q3 - Q1\n",
        "data_cad = pd.DataFrame(df['CAD']).query(\"@Q1 - 1.5*@IQR < CAD < @Q3 + 1.5*@IQR\")\n",
        "data_cad"
      ],
      "metadata": {
        "id": "GL7TVJu9FLWb",
        "colab": {
          "base_uri": "https://localhost:8080/",
          "height": 423
        },
        "outputId": "f22113ba-e34d-42bd-f509-49a8ceda1bf6"
      },
      "execution_count": null,
      "outputs": [
        {
          "output_type": "execute_result",
          "data": {
            "text/plain": [
              "           CAD\n",
              "0    -1.093862\n",
              "1    -1.055953\n",
              "2    -1.031984\n",
              "3    -1.060072\n",
              "4    -1.088455\n",
              "...        ...\n",
              "1248 -0.961218\n",
              "1249 -0.919901\n",
              "1250 -0.901947\n",
              "1251 -0.903413\n",
              "1252 -0.918094\n",
              "\n",
              "[1234 rows x 1 columns]"
            ],
            "text/html": [
              "\n",
              "  <div id=\"df-20130c43-9c67-486a-8eb7-3899ea35fd4e\">\n",
              "    <div class=\"colab-df-container\">\n",
              "      <div>\n",
              "<style scoped>\n",
              "    .dataframe tbody tr th:only-of-type {\n",
              "        vertical-align: middle;\n",
              "    }\n",
              "\n",
              "    .dataframe tbody tr th {\n",
              "        vertical-align: top;\n",
              "    }\n",
              "\n",
              "    .dataframe thead th {\n",
              "        text-align: right;\n",
              "    }\n",
              "</style>\n",
              "<table border=\"1\" class=\"dataframe\">\n",
              "  <thead>\n",
              "    <tr style=\"text-align: right;\">\n",
              "      <th></th>\n",
              "      <th>CAD</th>\n",
              "    </tr>\n",
              "  </thead>\n",
              "  <tbody>\n",
              "    <tr>\n",
              "      <th>0</th>\n",
              "      <td>-1.093862</td>\n",
              "    </tr>\n",
              "    <tr>\n",
              "      <th>1</th>\n",
              "      <td>-1.055953</td>\n",
              "    </tr>\n",
              "    <tr>\n",
              "      <th>2</th>\n",
              "      <td>-1.031984</td>\n",
              "    </tr>\n",
              "    <tr>\n",
              "      <th>3</th>\n",
              "      <td>-1.060072</td>\n",
              "    </tr>\n",
              "    <tr>\n",
              "      <th>4</th>\n",
              "      <td>-1.088455</td>\n",
              "    </tr>\n",
              "    <tr>\n",
              "      <th>...</th>\n",
              "      <td>...</td>\n",
              "    </tr>\n",
              "    <tr>\n",
              "      <th>1248</th>\n",
              "      <td>-0.961218</td>\n",
              "    </tr>\n",
              "    <tr>\n",
              "      <th>1249</th>\n",
              "      <td>-0.919901</td>\n",
              "    </tr>\n",
              "    <tr>\n",
              "      <th>1250</th>\n",
              "      <td>-0.901947</td>\n",
              "    </tr>\n",
              "    <tr>\n",
              "      <th>1251</th>\n",
              "      <td>-0.903413</td>\n",
              "    </tr>\n",
              "    <tr>\n",
              "      <th>1252</th>\n",
              "      <td>-0.918094</td>\n",
              "    </tr>\n",
              "  </tbody>\n",
              "</table>\n",
              "<p>1234 rows × 1 columns</p>\n",
              "</div>\n",
              "      <button class=\"colab-df-convert\" onclick=\"convertToInteractive('df-20130c43-9c67-486a-8eb7-3899ea35fd4e')\"\n",
              "              title=\"Convert this dataframe to an interactive table.\"\n",
              "              style=\"display:none;\">\n",
              "        \n",
              "  <svg xmlns=\"http://www.w3.org/2000/svg\" height=\"24px\"viewBox=\"0 0 24 24\"\n",
              "       width=\"24px\">\n",
              "    <path d=\"M0 0h24v24H0V0z\" fill=\"none\"/>\n",
              "    <path d=\"M18.56 5.44l.94 2.06.94-2.06 2.06-.94-2.06-.94-.94-2.06-.94 2.06-2.06.94zm-11 1L8.5 8.5l.94-2.06 2.06-.94-2.06-.94L8.5 2.5l-.94 2.06-2.06.94zm10 10l.94 2.06.94-2.06 2.06-.94-2.06-.94-.94-2.06-.94 2.06-2.06.94z\"/><path d=\"M17.41 7.96l-1.37-1.37c-.4-.4-.92-.59-1.43-.59-.52 0-1.04.2-1.43.59L10.3 9.45l-7.72 7.72c-.78.78-.78 2.05 0 2.83L4 21.41c.39.39.9.59 1.41.59.51 0 1.02-.2 1.41-.59l7.78-7.78 2.81-2.81c.8-.78.8-2.07 0-2.86zM5.41 20L4 18.59l7.72-7.72 1.47 1.35L5.41 20z\"/>\n",
              "  </svg>\n",
              "      </button>\n",
              "      \n",
              "  <style>\n",
              "    .colab-df-container {\n",
              "      display:flex;\n",
              "      flex-wrap:wrap;\n",
              "      gap: 12px;\n",
              "    }\n",
              "\n",
              "    .colab-df-convert {\n",
              "      background-color: #E8F0FE;\n",
              "      border: none;\n",
              "      border-radius: 50%;\n",
              "      cursor: pointer;\n",
              "      display: none;\n",
              "      fill: #1967D2;\n",
              "      height: 32px;\n",
              "      padding: 0 0 0 0;\n",
              "      width: 32px;\n",
              "    }\n",
              "\n",
              "    .colab-df-convert:hover {\n",
              "      background-color: #E2EBFA;\n",
              "      box-shadow: 0px 1px 2px rgba(60, 64, 67, 0.3), 0px 1px 3px 1px rgba(60, 64, 67, 0.15);\n",
              "      fill: #174EA6;\n",
              "    }\n",
              "\n",
              "    [theme=dark] .colab-df-convert {\n",
              "      background-color: #3B4455;\n",
              "      fill: #D2E3FC;\n",
              "    }\n",
              "\n",
              "    [theme=dark] .colab-df-convert:hover {\n",
              "      background-color: #434B5C;\n",
              "      box-shadow: 0px 1px 3px 1px rgba(0, 0, 0, 0.15);\n",
              "      filter: drop-shadow(0px 1px 2px rgba(0, 0, 0, 0.3));\n",
              "      fill: #FFFFFF;\n",
              "    }\n",
              "  </style>\n",
              "\n",
              "      <script>\n",
              "        const buttonEl =\n",
              "          document.querySelector('#df-20130c43-9c67-486a-8eb7-3899ea35fd4e button.colab-df-convert');\n",
              "        buttonEl.style.display =\n",
              "          google.colab.kernel.accessAllowed ? 'block' : 'none';\n",
              "\n",
              "        async function convertToInteractive(key) {\n",
              "          const element = document.querySelector('#df-20130c43-9c67-486a-8eb7-3899ea35fd4e');\n",
              "          const dataTable =\n",
              "            await google.colab.kernel.invokeFunction('convertToInteractive',\n",
              "                                                     [key], {});\n",
              "          if (!dataTable) return;\n",
              "\n",
              "          const docLinkHtml = 'Like what you see? Visit the ' +\n",
              "            '<a target=\"_blank\" href=https://colab.research.google.com/notebooks/data_table.ipynb>data table notebook</a>'\n",
              "            + ' to learn more about interactive tables.';\n",
              "          element.innerHTML = '';\n",
              "          dataTable['output_type'] = 'display_data';\n",
              "          await google.colab.output.renderOutput(dataTable, element);\n",
              "          const docLink = document.createElement('div');\n",
              "          docLink.innerHTML = docLinkHtml;\n",
              "          element.appendChild(docLink);\n",
              "        }\n",
              "      </script>\n",
              "    </div>\n",
              "  </div>\n",
              "  "
            ]
          },
          "metadata": {},
          "execution_count": 18
        }
      ]
    },
    {
      "cell_type": "markdown",
      "source": [
        "очистка данных для переменной EUR"
      ],
      "metadata": {
        "id": "URfGX8c9FVZr"
      }
    },
    {
      "cell_type": "code",
      "source": [
        "df.boxplot(column=\"EUR\")"
      ],
      "metadata": {
        "id": "0nndLJs9Fcbf",
        "colab": {
          "base_uri": "https://localhost:8080/",
          "height": 283
        },
        "outputId": "cb43c19e-faee-4922-9d0f-ef1d23da35e5"
      },
      "execution_count": null,
      "outputs": [
        {
          "output_type": "execute_result",
          "data": {
            "text/plain": [
              "<matplotlib.axes._subplots.AxesSubplot at 0x7f2ab45d4d50>"
            ]
          },
          "metadata": {},
          "execution_count": 19
        },
        {
          "output_type": "display_data",
          "data": {
            "text/plain": [
              "<Figure size 432x288 with 1 Axes>"
            ],
            "image/png": "[encoded data removed]"
          },
          "metadata": {
            "needs_background": "light"
          }
        }
      ]
    },
    {
      "cell_type": "code",
      "source": [
        "Q1 =  df['EUR'].quantile(0.25)\n",
        "Q3 = df['EUR'].quantile(0.75)\n",
        "IQR = Q3 - Q1\n",
        "data_eur = pd.DataFrame(df['EUR']).query(\"@Q1 - 1.5*@IQR < EUR < @Q3 + 1.5*@IQR\")\n",
        "data_eur"
      ],
      "metadata": {
        "id": "W2X6li-uFcsk",
        "colab": {
          "base_uri": "https://localhost:8080/",
          "height": 423
        },
        "outputId": "1d6aa12d-637f-4119-a018-e9bc07825671"
      },
      "execution_count": null,
      "outputs": [
        {
          "output_type": "execute_result",
          "data": {
            "text/plain": [
              "           EUR\n",
              "0    -1.590240\n",
              "1    -1.575659\n",
              "2    -1.574399\n",
              "3    -1.532505\n",
              "4    -1.532849\n",
              "...        ...\n",
              "1248 -0.963492\n",
              "1249 -0.940178\n",
              "1250 -0.925195\n",
              "1251 -0.920596\n",
              "1252 -0.927877\n",
              "\n",
              "[1238 rows x 1 columns]"
            ],
            "text/html": [
              "\n",
              "  <div id=\"df-1af1c999-4747-4365-b2ea-5a577ed5d98c\">\n",
              "    <div class=\"colab-df-container\">\n",
              "      <div>\n",
              "<style scoped>\n",
              "    .dataframe tbody tr th:only-of-type {\n",
              "        vertical-align: middle;\n",
              "    }\n",
              "\n",
              "    .dataframe tbody tr th {\n",
              "        vertical-align: top;\n",
              "    }\n",
              "\n",
              "    .dataframe thead th {\n",
              "        text-align: right;\n",
              "    }\n",
              "</style>\n",
              "<table border=\"1\" class=\"dataframe\">\n",
              "  <thead>\n",
              "    <tr style=\"text-align: right;\">\n",
              "      <th></th>\n",
              "      <th>EUR</th>\n",
              "    </tr>\n",
              "  </thead>\n",
              "  <tbody>\n",
              "    <tr>\n",
              "      <th>0</th>\n",
              "      <td>-1.590240</td>\n",
              "    </tr>\n",
              "    <tr>\n",
              "      <th>1</th>\n",
              "      <td>-1.575659</td>\n",
              "    </tr>\n",
              "    <tr>\n",
              "      <th>2</th>\n",
              "      <td>-1.574399</td>\n",
              "    </tr>\n",
              "    <tr>\n",
              "      <th>3</th>\n",
              "      <td>-1.532505</td>\n",
              "    </tr>\n",
              "    <tr>\n",
              "      <th>4</th>\n",
              "      <td>-1.532849</td>\n",
              "    </tr>\n",
              "    <tr>\n",
              "      <th>...</th>\n",
              "      <td>...</td>\n",
              "    </tr>\n",
              "    <tr>\n",
              "      <th>1248</th>\n",
              "      <td>-0.963492</td>\n",
              "    </tr>\n",
              "    <tr>\n",
              "      <th>1249</th>\n",
              "      <td>-0.940178</td>\n",
              "    </tr>\n",
              "    <tr>\n",
              "      <th>1250</th>\n",
              "      <td>-0.925195</td>\n",
              "    </tr>\n",
              "    <tr>\n",
              "      <th>1251</th>\n",
              "      <td>-0.920596</td>\n",
              "    </tr>\n",
              "    <tr>\n",
              "      <th>1252</th>\n",
              "      <td>-0.927877</td>\n",
              "    </tr>\n",
              "  </tbody>\n",
              "</table>\n",
              "<p>1238 rows × 1 columns</p>\n",
              "</div>\n",
              "      <button class=\"colab-df-convert\" onclick=\"convertToInteractive('df-1af1c999-4747-4365-b2ea-5a577ed5d98c')\"\n",
              "              title=\"Convert this dataframe to an interactive table.\"\n",
              "              style=\"display:none;\">\n",
              "        \n",
              "  <svg xmlns=\"http://www.w3.org/2000/svg\" height=\"24px\"viewBox=\"0 0 24 24\"\n",
              "       width=\"24px\">\n",
              "    <path d=\"M0 0h24v24H0V0z\" fill=\"none\"/>\n",
              "    <path d=\"M18.56 5.44l.94 2.06.94-2.06 2.06-.94-2.06-.94-.94-2.06-.94 2.06-2.06.94zm-11 1L8.5 8.5l.94-2.06 2.06-.94-2.06-.94L8.5 2.5l-.94 2.06-2.06.94zm10 10l.94 2.06.94-2.06 2.06-.94-2.06-.94-.94-2.06-.94 2.06-2.06.94z\"/><path d=\"M17.41 7.96l-1.37-1.37c-.4-.4-.92-.59-1.43-.59-.52 0-1.04.2-1.43.59L10.3 9.45l-7.72 7.72c-.78.78-.78 2.05 0 2.83L4 21.41c.39.39.9.59 1.41.59.51 0 1.02-.2 1.41-.59l7.78-7.78 2.81-2.81c.8-.78.8-2.07 0-2.86zM5.41 20L4 18.59l7.72-7.72 1.47 1.35L5.41 20z\"/>\n",
              "  </svg>\n",
              "      </button>\n",
              "      \n",
              "  <style>\n",
              "    .colab-df-container {\n",
              "      display:flex;\n",
              "      flex-wrap:wrap;\n",
              "      gap: 12px;\n",
              "    }\n",
              "\n",
              "    .colab-df-convert {\n",
              "      background-color: #E8F0FE;\n",
              "      border: none;\n",
              "      border-radius: 50%;\n",
              "      cursor: pointer;\n",
              "      display: none;\n",
              "      fill: #1967D2;\n",
              "      height: 32px;\n",
              "      padding: 0 0 0 0;\n",
              "      width: 32px;\n",
              "    }\n",
              "\n",
              "    .colab-df-convert:hover {\n",
              "      background-color: #E2EBFA;\n",
              "      box-shadow: 0px 1px 2px rgba(60, 64, 67, 0.3), 0px 1px 3px 1px rgba(60, 64, 67, 0.15);\n",
              "      fill: #174EA6;\n",
              "    }\n",
              "\n",
              "    [theme=dark] .colab-df-convert {\n",
              "      background-color: #3B4455;\n",
              "      fill: #D2E3FC;\n",
              "    }\n",
              "\n",
              "    [theme=dark] .colab-df-convert:hover {\n",
              "      background-color: #434B5C;\n",
              "      box-shadow: 0px 1px 3px 1px rgba(0, 0, 0, 0.15);\n",
              "      filter: drop-shadow(0px 1px 2px rgba(0, 0, 0, 0.3));\n",
              "      fill: #FFFFFF;\n",
              "    }\n",
              "  </style>\n",
              "\n",
              "      <script>\n",
              "        const buttonEl =\n",
              "          document.querySelector('#df-1af1c999-4747-4365-b2ea-5a577ed5d98c button.colab-df-convert');\n",
              "        buttonEl.style.display =\n",
              "          google.colab.kernel.accessAllowed ? 'block' : 'none';\n",
              "\n",
              "        async function convertToInteractive(key) {\n",
              "          const element = document.querySelector('#df-1af1c999-4747-4365-b2ea-5a577ed5d98c');\n",
              "          const dataTable =\n",
              "            await google.colab.kernel.invokeFunction('convertToInteractive',\n",
              "                                                     [key], {});\n",
              "          if (!dataTable) return;\n",
              "\n",
              "          const docLinkHtml = 'Like what you see? Visit the ' +\n",
              "            '<a target=\"_blank\" href=https://colab.research.google.com/notebooks/data_table.ipynb>data table notebook</a>'\n",
              "            + ' to learn more about interactive tables.';\n",
              "          element.innerHTML = '';\n",
              "          dataTable['output_type'] = 'display_data';\n",
              "          await google.colab.output.renderOutput(dataTable, element);\n",
              "          const docLink = document.createElement('div');\n",
              "          docLink.innerHTML = docLinkHtml;\n",
              "          element.appendChild(docLink);\n",
              "        }\n",
              "      </script>\n",
              "    </div>\n",
              "  </div>\n",
              "  "
            ]
          },
          "metadata": {},
          "execution_count": 20
        }
      ]
    },
    {
      "cell_type": "markdown",
      "source": [
        "повторные исследования"
      ],
      "metadata": {
        "id": "9OjjxvKWFySq"
      }
    },
    {
      "cell_type": "code",
      "source": [
        "print(stats.shapiro(list(data_usd['USD'])), stats.shapiro(list(data_cad['CAD'])), stats.shapiro(list(data_eur['EUR'])), sep='\\n')"
      ],
      "metadata": {
        "id": "r6VHtM69FxjD",
        "colab": {
          "base_uri": "https://localhost:8080/"
        },
        "outputId": "0da8e967-e09f-4a43-f89d-83be0cdf3f8e"
      },
      "execution_count": null,
      "outputs": [
        {
          "output_type": "stream",
          "name": "stdout",
          "text": [
            "ShapiroResult(statistic=0.964260458946228, pvalue=7.48832579561067e-17)\n",
            "ShapiroResult(statistic=0.9303284883499146, pvalue=1.6056910316088156e-23)\n",
            "ShapiroResult(statistic=0.9662734270095825, pvalue=2.2847080566783327e-16)\n"
          ]
        }
      ]
    },
    {
      "cell_type": "code",
      "source": [
        "\"\"\"7\"\"\"\n",
        "import sklearn\n",
        "import numpy as np\n",
        "import matplotlib.pyplot as plt\n",
        "import pandas as pd\n",
        "\n",
        "plt.scatter(df['EUR'], df['USD'])\n",
        "\n",
        "plt.plot(np.unique(df['EUR']), np.poly1d(np.polyfit(df['EUR'], df['USD'], 1))(np.unique(df['EUR'])), color='red')\n",
        "\n",
        "plt.title('Correlation EUR & USD')\n",
        "plt.xlabel('EUR')\n",
        "plt.ylabel('USD')\n"
      ],
      "metadata": {
        "colab": {
          "base_uri": "https://localhost:8080/",
          "height": 313
        },
        "id": "dpGx5r23q6M4",
        "outputId": "d5556d63-ec4e-445e-8d84-e75d12b264dc"
      },
      "execution_count": null,
      "outputs": [
        {
          "output_type": "execute_result",
          "data": {
            "text/plain": [
              "Text(0, 0.5, 'USD')"
            ]
          },
          "metadata": {},
          "execution_count": 35
        },
        {
          "output_type": "display_data",
          "data": {
            "text/plain": [
              "<Figure size 432x288 with 1 Axes>"
            ],
            "image/png": "[encoded data removed]"
          },
          "metadata": {
            "needs_background": "light"
          }
        }
      ]
    },
    {
      "cell_type": "code",
      "source": [
        "plt.scatter(df['EUR'], df['CAD'])\n",
        "\n",
        "plt.plot(np.unique(df['EUR']), np.poly1d(np.polyfit(df['EUR'], df['CAD'], 1))(np.unique(df['EUR'])), color='red')\n",
        "\n",
        "plt.title('Correlation EUR & CAD')\n",
        "\n",
        "plt.xlabel('EUR')\n",
        "plt.ylabel('CAD')"
      ],
      "metadata": {
        "colab": {
          "base_uri": "https://localhost:8080/",
          "height": 313
        },
        "id": "LYmgze91zVdT",
        "outputId": "e1a872d8-7531-40fe-ca6f-1d58439ce4c7"
      },
      "execution_count": null,
      "outputs": [
        {
          "output_type": "execute_result",
          "data": {
            "text/plain": [
              "Text(0, 0.5, 'CAD')"
            ]
          },
          "metadata": {},
          "execution_count": 37
        },
        {
          "output_type": "display_data",
          "data": {
            "text/plain": [
              "<Figure size 432x288 with 1 Axes>"
            ],
            "image/png": "[encoded data removed]"
          },
          "metadata": {
            "needs_background": "light"
          }
        }
      ]
    },
    {
      "cell_type": "code",
      "source": [
        "plt.scatter(df['USD'], df['CAD'])\n",
        "\n",
        "plt.plot(np.unique(df['USD']), np.poly1d(np.polyfit(df['USD'], df['CAD'], 1))(np.unique(df['USD'])), color='red')\n",
        "\n",
        "plt.title('Correlation USD & CAD')\n",
        "\n",
        "plt.xlabel('USD')\n",
        "plt.ylabel('CAD')"
      ],
      "metadata": {
        "colab": {
          "base_uri": "https://localhost:8080/",
          "height": 313
        },
        "id": "euyaQ4U6zmBl",
        "outputId": "521e08af-eb54-4035-e0f1-a9259ace424a"
      },
      "execution_count": null,
      "outputs": [
        {
          "output_type": "execute_result",
          "data": {
            "text/plain": [
              "Text(0, 0.5, 'CAD')"
            ]
          },
          "metadata": {},
          "execution_count": 38
        },
        {
          "output_type": "display_data",
          "data": {
            "text/plain": [
              "<Figure size 432x288 with 1 Axes>"
            ],
            "image/png": "[encoded data removed]"
          },
          "metadata": {
            "needs_background": "light"
          }
        }
      ]
    },
    {
      "cell_type": "code",
      "source": [
        "\"\"\"8\"\"\"\n",
        "print ('EUR & USD')\n",
        "pr = stats.pearsonr(df['USD'], df['EUR'])\n",
        "print ('Пирсона: ', pr)\n",
        "pr = stats.spearmanr(df['USD'], df['EUR'])\n",
        "print ('Спирмена: ', pr)\n",
        "pr = stats. kendalltau(df['USD'], df['EUR'])\n",
        "print ('Кендалла: ', pr)\n",
        "#полнаякорреляция, по Спирмену весьма высокая, р маленький:отбрасываем гипотезу об отсутствии корреляции"
      ],
      "metadata": {
        "colab": {
          "base_uri": "https://localhost:8080/"
        },
        "id": "qI9SzExjzwQz",
        "outputId": "23f74c93-81bc-4770-a374-c3143e1fc6e9"
      },
      "execution_count": null,
      "outputs": [
        {
          "output_type": "stream",
          "name": "stdout",
          "text": [
            "EUR & USD\n",
            "Пирсона:  (0.9332625360402936, 0.0)\n",
            "Спирмена:  SpearmanrResult(correlation=0.9353070190571494, pvalue=0.0)\n",
            "Кендалла:  KendalltauResult(correlation=0.7804146377145194, pvalue=0.0)\n"
          ]
        }
      ]
    },
    {
      "cell_type": "code",
      "source": [
        "print ('EUR & CAD')\n",
        "pr = stats.pearsonr(df['CAD'], df['EUR'])\n",
        "print ('Пирсона: ', pr)\n",
        "pr = stats.spearmanr(df['CAD'], df['EUR'])\n",
        "print ('Спирмена: ', pr)\n",
        "pr = stats. kendalltau(df['CAD'], df['EUR'])\n",
        "print ('Кендалла: ', pr)\n",
        "#полнаякорреляция, по Спирмену весьма высокая, р маленький:отбрасываем гипотезу об отсутствии корреляции"
      ],
      "metadata": {
        "colab": {
          "base_uri": "https://localhost:8080/"
        },
        "id": "l3tQKl55BRnU",
        "outputId": "3984cd77-78b3-4ce4-dc7d-b019010e23aa"
      },
      "execution_count": null,
      "outputs": [
        {
          "output_type": "stream",
          "name": "stdout",
          "text": [
            "EUR & CAD\n",
            "Пирсона:  (0.9438190119880252, 0.0)\n",
            "Спирмена:  SpearmanrResult(correlation=0.9425415471298333, pvalue=0.0)\n",
            "Кендалла:  KendalltauResult(correlation=0.7959662151394422, pvalue=0.0)\n"
          ]
        }
      ]
    },
    {
      "cell_type": "code",
      "source": [
        "print ('USD & CAD')\n",
        "pr = stats.pearsonr(df['CAD'], df['USD'])\n",
        "print ('Пирсона: ', pr)\n",
        "pr = stats.spearmanr(df['CAD'], df['USD'])\n",
        "print ('Спирмена: ', pr)\n",
        "pr = stats. kendalltau(df['CAD'], df['USD'])\n",
        "print ('Кендалла: ', pr)\n",
        "#полнаякорреляция, по Спирмену весьма высокая, р маленький:отбрасываем гипотезу об отсутствии корреляции"
      ],
      "metadata": {
        "colab": {
          "base_uri": "https://localhost:8080/"
        },
        "id": "_DZJeYvHBhGc",
        "outputId": "cdcc97f9-8ca9-41c3-d201-1934c9517b5b"
      },
      "execution_count": null,
      "outputs": [
        {
          "output_type": "stream",
          "name": "stdout",
          "text": [
            "USD & CAD\n",
            "Пирсона:  (0.9680915399501483, 0.0)\n",
            "Спирмена:  SpearmanrResult(correlation=0.958491452088415, pvalue=0.0)\n",
            "Кендалла:  KendalltauResult(correlation=0.8282924609148445, pvalue=0.0)\n"
          ]
        }
      ]
    },
    {
      "cell_type": "code",
      "source": [
        "\"\"\"9\"\"\"\n",
        "import pandas as pd \n",
        "import numpy as np \n",
        "import matplotlib.pyplot as plt \n",
        "\n",
        "import seaborn as sns\n",
        "\n",
        "sns.regplot(df.EUR, df.USD, color = 'red')\n",
        "plt.scatter(df['EUR'], df['USD'])\n",
        "\n",
        "plt.title('EUR & USD')\n",
        "plt.xlabel('EUR')\n",
        "plt.ylabel('USD')\n"
      ],
      "metadata": {
        "colab": {
          "base_uri": "https://localhost:8080/",
          "height": 369
        },
        "id": "GEjoikKz2Gxn",
        "outputId": "bf686c59-6ccc-41ad-e1ae-8fb410c61128"
      },
      "execution_count": null,
      "outputs": [
        {
          "output_type": "stream",
          "name": "stderr",
          "text": [
            "/usr/local/lib/python3.7/dist-packages/seaborn/_decorators.py:43: FutureWarning: Pass the following variables as keyword args: x, y. From version 0.12, the only valid positional argument will be `data`, and passing other arguments without an explicit keyword will result in an error or misinterpretation.\n",
            "  FutureWarning\n"
          ]
        },
        {
          "output_type": "execute_result",
          "data": {
            "text/plain": [
              "Text(0, 0.5, 'USD')"
            ]
          },
          "metadata": {},
          "execution_count": 43
        },
        {
          "output_type": "display_data",
          "data": {
            "text/plain": [
              "<Figure size 432x288 with 1 Axes>"
            ],
            "image/png": "[encoded data removed]"
          },
          "metadata": {
            "needs_background": "light"
          }
        }
      ]
    },
    {
      "cell_type": "code",
      "source": [
        "sns.regplot(df.EUR, df.CAD, color = 'red')\n",
        "plt.scatter(df['EUR'], df['CAD'])\n",
        "\n",
        "plt.title('EUR & CAD')\n",
        "plt.xlabel('EUR')\n",
        "plt.ylabel('CAD')\n"
      ],
      "metadata": {
        "colab": {
          "base_uri": "https://localhost:8080/",
          "height": 369
        },
        "id": "6OIySVEv2JXY",
        "outputId": "521c6270-04c8-46b1-91bf-ce3be555adfc"
      },
      "execution_count": null,
      "outputs": [
        {
          "output_type": "stream",
          "name": "stderr",
          "text": [
            "/usr/local/lib/python3.7/dist-packages/seaborn/_decorators.py:43: FutureWarning: Pass the following variables as keyword args: x, y. From version 0.12, the only valid positional argument will be `data`, and passing other arguments without an explicit keyword will result in an error or misinterpretation.\n",
            "  FutureWarning\n"
          ]
        },
        {
          "output_type": "execute_result",
          "data": {
            "text/plain": [
              "Text(0, 0.5, 'CAD')"
            ]
          },
          "metadata": {},
          "execution_count": 45
        },
        {
          "output_type": "display_data",
          "data": {
            "text/plain": [
              "<Figure size 432x288 with 1 Axes>"
            ],
            "image/png": "[encoded data removed]"
          },
          "metadata": {
            "needs_background": "light"
          }
        }
      ]
    },
    {
      "cell_type": "code",
      "source": [
        "sns.regplot(df.USD, df.CAD, color = 'red')\n",
        "plt.scatter(df['USD'], df['CAD'])\n",
        "\n",
        "plt.title('USD & CAD')\n",
        "plt.xlabel('USD')\n",
        "plt.ylabel('CAD')"
      ],
      "metadata": {
        "colab": {
          "base_uri": "https://localhost:8080/",
          "height": 369
        },
        "id": "qGwHQUr72OcY",
        "outputId": "0a64c5fd-57db-4cdb-d9d9-11904479f0e1"
      },
      "execution_count": null,
      "outputs": [
        {
          "output_type": "stream",
          "name": "stderr",
          "text": [
            "/usr/local/lib/python3.7/dist-packages/seaborn/_decorators.py:43: FutureWarning: Pass the following variables as keyword args: x, y. From version 0.12, the only valid positional argument will be `data`, and passing other arguments without an explicit keyword will result in an error or misinterpretation.\n",
            "  FutureWarning\n"
          ]
        },
        {
          "output_type": "execute_result",
          "data": {
            "text/plain": [
              "Text(0, 0.5, 'CAD')"
            ]
          },
          "metadata": {},
          "execution_count": 46
        },
        {
          "output_type": "display_data",
          "data": {
            "text/plain": [
              "<Figure size 432x288 with 1 Axes>"
            ],
            "image/png": "[encoded data removed]"
          },
          "metadata": {
            "needs_background": "light"
          }
        }
      ]
    }
  ]
}