{
  "nbformat": 4,
  "nbformat_minor": 0,
  "metadata": {
    "colab": {
      "provenance": []
    },
    "kernelspec": {
      "name": "python3",
      "display_name": "Python 3"
    },
    "language_info": {
      "name": "python"
    }
  },
  "cells": [
    {
      "cell_type": "markdown",
      "source": [],
      "metadata": {
        "id": "KvTy9SsfMcCo"
      }
    },
    {
      "cell_type": "markdown",
      "source": [
        "#Задача 1\n",
        "#Проверить, является ли заданное натуральное число перевертышем (палиндромом), т.е. совпадает ли оно с \"обратным\". Например, 12345 не палиндром, а 12321 - палиндром.\n",
        "\n",
        "---\n",
        "\n"
      ],
      "metadata": {
        "id": "mEYQMY1Tzz4b"
      }
    },
    {
      "cell_type": "code",
      "source": [
        "x=str(input(\"введите число\\n\"))\n",
        "\n",
        "def reverse_slicing(s):\n",
        "    return s[::-1]\n",
        "\n",
        "if (reverse_slicing(x) == x):\n",
        "  print (\"палиндром\")\n",
        "else:\n",
        "    print (\"не палиндром\")"
      ],
      "metadata": {
        "id": "l9_yg-t70K3v"
      },
      "execution_count": null,
      "outputs": []
    },
    {
      "cell_type": "code",
      "source": [
        "\"\"\"Напишите программу представления нечетного числа в виде суммы трех \n",
        "простых чисел (тенарная проблема Гольдбаха).\"\"\"\n",
        "\n",
        "\"\"\"поиск простых числе в интервале заданного числа\"\"\"\n",
        "def is_prime(number):\n",
        "    n = number\n",
        "    counter = 0\n",
        "    for i in range(1, n + 1):\n",
        "        if n % i == 0:\n",
        "            counter += 1\n",
        "    return True if counter == 2 else False \n",
        "\n",
        "\"\"\"поиск искомых значений среди простых чисел\"\"\"\n",
        "def goldebax(num):\n",
        "    simp_nums = []\n",
        "    for sub_num in range(num):\n",
        "        if is_prime(sub_num):\n",
        "            simp_nums.append(sub_num)\n",
        "    global n \n",
        "    n -= 3\n",
        "    res = [3]\n",
        "    i = 0\n",
        "    while True:\n",
        "        if n - simp_nums[i] in simp_nums :\n",
        "            res.append(simp_nums[i])\n",
        "            res.append(n - simp_nums[i])\n",
        "            res.sort()\n",
        "            break\n",
        "        i += 1\n",
        "    return res    \n",
        "\n",
        "\n",
        "if __name__ == \"__main__\":\n",
        "    n=int(input(\"введите число: \"))\n",
        "    print(\"искомые значения:\", *goldebax(n))"
      ],
      "metadata": {
        "colab": {
          "base_uri": "https://localhost:8080/"
        },
        "id": "gudc-3koIZfe",
        "outputId": "93f31776-2ad7-47d2-d981-792e236e057a"
      },
      "execution_count": null,
      "outputs": [
        {
          "output_type": "stream",
          "name": "stdout",
          "text": [
            "введите число: 1001\n",
            "искомые значения: 3 7 991\n"
          ]
        }
      ]
    },
    {
      "cell_type": "markdown",
      "source": [
        "#Задача 3\n",
        "#Реализуйте на языке Python программу, осуществляющую кодирование текста на основе шифра Виженера. \n",
        "#Вход: 2 строки – текст и ключ (последовательность английских букв). \n",
        "#Выход – зашифрованный текст. Ключ может быть короче или длиннее текста +программа для дешифрования."
      ],
      "metadata": {
        "id": "PvNhUHZu0bUs"
      }
    },
    {
      "cell_type": "code",
      "source": [
        "#функция шифрования\n",
        "#происходит последовательный сдвиг всех элементов (букв, знаков препинания и цифр) \n",
        "def chifr (text,key): \n",
        "  chifr_text=[]\n",
        "  while len(text)>len(key): #пока текст длиннее ключа\n",
        "    text_part=text[0:(len(key))]     #срез текста равный длине ключа\n",
        "    for q in key:  #итерация по символам ключа\n",
        "      text_char=text_part[key.index(q)] #возвращает символ текста с позиции равной позиции символа в ключе\n",
        "      chifr_ord=ord(q)-97+ord(text_char) #код зашифрованного символа (код ключа-97 так как маленькие английские буквы начинаются с 97 + код символа из текста)\n",
        "      chifr_text.append(chr(chifr_ord)) #присоединение символа к новому массиву\n",
        "    text=text[len(key):] #срез текста без предыдущего куска\n",
        "  else: #если длина текста меньше чем ключа\n",
        "    key_part=key[0:(len(text))] \n",
        "    for q in text:\n",
        "      chifr_ord=ord(key_part[text.index(q)])-97+ord(q) #код символа ключа который стоит на позиции соотвествующей позиции символа текста-97+код символа текста\n",
        "      chifr_text.append(chr(chifr_ord))\n",
        "  return ''.join(map(str, chifr_text)) #склеивание в строку элементов списка\n",
        "\n",
        "#функция дешифрования\n",
        "def dechifr(chfr_text,key):\n",
        "  dechfr_text=[]\n",
        "  while len(chfr_text)>len(key):\n",
        "    text_part=chfr_text[0:(len(key))]\n",
        "    for q in key:\n",
        "      text_char=text_part[key.index(q)]\n",
        "      dechfr_ord=ord(text_char)-ord(q)+97 #из кода символа текста вычитается код символа ключа \n",
        "      dechfr_text.append(chr(dechfr_ord))\n",
        "    chfr_text=chfr_text[len(key):]\n",
        "  else:\n",
        "    key_part=key[0:(len(chfr_text))]\n",
        "    for q in chfr_text:\n",
        "      dechfr_ord=ord(q)-ord(key_part[chfr_text.index(q)])+97\n",
        "      dechfr_text.append(chr(dechfr_ord))\n",
        "  return ''.join(map(str, dechfr_text))\n",
        "  \n",
        "text=str(input(\"введите текст\\n\"))\n",
        "key=str(input(\"введите ключ\\n\"))\n",
        "\n",
        "chfr_text=chifr (text,key)\n",
        "print ('chifr',chfr_text)\n",
        "\n",
        "dechfr_text=dechifr(chfr_text,key)\n",
        "print (dechfr_text)"
      ],
      "metadata": {
        "id": "D1PUCuTg0qUb",
        "colab": {
          "base_uri": "https://localhost:8080/"
        },
        "outputId": "3e95c3b0-9cd1-4751-8b5e-4206c684f834"
      },
      "execution_count": null,
      "outputs": [
        {
          "output_type": "stream",
          "name": "stdout",
          "text": [
            "введите текст\n",
            "abzed\n",
            "введите ключ\n",
            "ab\n",
            "ch aczfd\n",
            "abzed\n"
          ]
        }
      ]
    },
    {
      "cell_type": "markdown",
      "source": [
        "#Задача 4\n",
        "#Напишите программу, которая находит во введённой строке английских символов самую длинную последовательность символов, идущих в алфавитном порядке. Например, для “abcdlhabkefghijklty” самая длинная последовательность efghijkl."
      ],
      "metadata": {
        "id": "32gJrIT-0QOI"
      }
    },
    {
      "cell_type": "code",
      "source": [
        "#mytext = \"abcdlhabkefghijklty\"\n",
        "mytext = input('Введите последовательность символов\\n')\n",
        "n = len(mytext)\n",
        "alpha = \"abcdefghijklmnopqrstuvwxyz\"\n",
        "kmax = 0\n",
        "res = \"\"\n",
        "k = 0\n",
        "for i in range(n):\n",
        "  res += mytext[i]\n",
        "  if res in alpha:\n",
        "    k += 1\n",
        "  else :\n",
        "    if k > kmax :\n",
        "      kmax = k \n",
        "      print (res)\n",
        "      letmax = res[:-1]\n",
        "    res = mytext[i]\n",
        "    k = 1\n",
        "print(kmax,\" -> \", letmax)"
      ],
      "metadata": {
        "id": "cACBnEeD0X0X",
        "colab": {
          "base_uri": "https://localhost:8080/"
        },
        "outputId": "f7a1d92d-65c7-41d8-b2bb-18c02ea6c1fb"
      },
      "execution_count": null,
      "outputs": [
        {
          "output_type": "stream",
          "name": "stdout",
          "text": [
            "Введите последовательность символов\n",
            "abcab\n",
            "abca\n",
            "3  ->  abc\n"
          ]
        }
      ]
    },
    {
      "cell_type": "code",
      "execution_count": null,
      "metadata": {
        "id": "aXgWvud0HbzT",
        "colab": {
          "base_uri": "https://localhost:8080/"
        },
        "outputId": "6aaa8e38-ecf9-403b-e5cd-60c6152756f5"
      },
      "outputs": [
        {
          "output_type": "stream",
          "name": "stdout",
          "text": [
            "введите число\n",
            "9\n",
            "x<y\n",
            "введите число\n",
            "6\n",
            "вы угадали\n"
          ]
        }
      ],
      "source": [
        "import random\n",
        "import math\n",
        "x=random.randint(1,20)\n",
        "y=int(input(\"введите число\\n\"))\n",
        "while x!=y:\n",
        "  if x<y:  \n",
        "    print (\"x<y\")\n",
        "  else:\n",
        "    print (\"x>y\")\n",
        "  y=int(input(\"введите число\\n\"))\n",
        "else: \n",
        "  print (\"вы угадали\")"
      ]
    },
    {
      "cell_type": "code",
      "source": [],
      "metadata": {
        "id": "kftzzxAbXsYS"
      },
      "execution_count": null,
      "outputs": []
    }
  ]
}